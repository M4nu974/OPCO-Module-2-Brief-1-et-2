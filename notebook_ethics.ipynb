{
 "cells": [
  {
   "metadata": {},
   "cell_type": "markdown",
   "source": "# Étape 1 – Import des bibliothèques",
   "id": "5a20e60b42961cbd"
  },
  {
   "cell_type": "code",
   "id": "initial_id",
   "metadata": {
    "collapsed": true
   },
   "source": [
    "import pandas as pd\n",
    "import numpy as np\n",
    "import matplotlib.pyplot as plt\n",
    "import seaborn as sns\n",
    "import missingno as msno\n"
   ],
   "outputs": [],
   "execution_count": null
  },
  {
   "metadata": {},
   "cell_type": "markdown",
   "source": "# Étape 2 – Chargement du jeu de données",
   "id": "50cfd3ad4b537434"
  },
  {
   "metadata": {},
   "cell_type": "code",
   "source": [
    "df = pd.read_csv(\"dataset.csv\")\n",
    "df.head()"
   ],
   "id": "cc9ac0622369d288",
   "outputs": [],
   "execution_count": null
  },
  {
   "metadata": {},
   "cell_type": "markdown",
   "source": [
    "# Étape 3 - Analyse de la nature des colonnes\n",
    "\n",
    "| Colonne               | Nature     |\n",
    "|-----------------------|------------|\n",
    "| nom                   | catégoriel |\n",
    "| prenom                | catégoriel |\n",
    "| age                   | ordinal    |\n",
    "| taille                | ordinal    |\n",
    "| poids                 | ordinal    |\n",
    "| sexe                  | catégoriel |\n",
    "| sport_licence         | catégoriel |\n",
    "| niveau_etude          | ordinal    |\n",
    "| region                | catégoriel |\n",
    "| smoker                | catégoriel |\n",
    "| nationalité_francaise  | catégoriel |\n",
    "| revenu_estime_mois    | ordinal    |\n",
    "| situation_familiale   | catégoriel |\n",
    "| historique_credits    | ordinal    |\n",
    "| risque_personnel      | ordinal    |\n",
    "| date_creation_compte  | ordinal    |\n",
    "| score_credit          | ordinal    |\n",
    "| loyer_mensuel         | ordinal    |\n",
    "| montant_pret          | ordinal    |\n"
   ],
   "id": "1d1e6fe2c3edb12e"
  },
  {
   "metadata": {},
   "cell_type": "markdown",
   "source": "# Étape 4 – Analyse des valeurs manquantes",
   "id": "2f2ced54d1fc705b"
  },
  {
   "metadata": {},
   "cell_type": "code",
   "source": [
    "# Suppression des doublons\n",
    "df = df.drop_duplicates()\n",
    "# Colonnes avec des valeurs manquantes\n",
    "df.isnull().sum().sort_values(ascending=False)\n"
   ],
   "id": "54746b89e9de6e9e",
   "outputs": [],
   "execution_count": null
  },
  {
   "metadata": {},
   "cell_type": "code",
   "source": [
    "# Visualisation avec missingno\n",
    "msno.matrix(df, figsize=(12,6))\n",
    "msno.heatmap(df)"
   ],
   "id": "36f2e58d69151b45",
   "outputs": [],
   "execution_count": null
  },
  {
   "metadata": {},
   "cell_type": "markdown",
   "source": "On constate que les colonnes score_credit, historique_credits, loyer_mensuel et situation_familiale  possèdent beaucoup de valeurs à null , il faudra palier à ce problème pour pourvoir exploiter les données.\n",
   "id": "3a30a97a6f910e9b"
  },
  {
   "metadata": {},
   "cell_type": "markdown",
   "source": "# Étape 5 - Détection des outliers:",
   "id": "68b120cd0b0a54e8"
  },
  {
   "metadata": {},
   "cell_type": "markdown",
   "source": [
    "Afin de s'assurer que notre dataset ne possède pas de données \"isolées\" pour l'entrainement du futur modèle, nous devons détecter les outliers et les adapter en conséquence.\n",
    "\n",
    "Ce code calcule l’intervalle interquartile (IQR) pour une colonne, définit des bornes (Q1 − 1.5×IQR, Q3 + 1.5×IQR), et retourne les lignes du DataFrame qui sortent de cet intervalle (outliers)."
   ],
   "id": "a3fdb287c21847cb"
  },
  {
   "metadata": {},
   "cell_type": "code",
   "source": [
    "# Fonction IQR pour détecter les outliers\n",
    "def detect_outliers(df, column):\n",
    "    Q1 = df[column].quantile(0.25)\n",
    "    Q3 = df[column].quantile(0.75)\n",
    "    IQR = Q3 - Q1 # mesure la dispersion au centre (intervalle contenant les 50 % du milieu).\n",
    "    lower_bound = Q1 - 1.5 * IQR # seuil minimal accepté.\n",
    "    upper_bound = Q3 + 1.5 * IQR # seuil maximal accepté.\n",
    "    return df[(df[column] < lower_bound) | (df[column] > upper_bound)]\n",
    "\n",
    "# ➤ 3. Détection et traitement des outliers avec IQR (remplacement par borne)\n",
    "colonnes_numeriques = df.select_dtypes(include=[\"float\", \"int\"]).columns\n",
    "\n",
    "for column in colonnes_numeriques:\n",
    "    outliers = detect_outliers(df, column)\n",
    "outliers.head()"
   ],
   "id": "52e6578b19264d0d",
   "outputs": [],
   "execution_count": null
  },
  {
   "metadata": {},
   "cell_type": "code",
   "source": [
    "for column in colonnes_numeriques:\n",
    "    # Boxplot\n",
    "    plt.figure(figsize=(10,4))\n",
    "    sns.boxplot(data=df, x=column)\n",
    "    plt.title(\"Boxplot de la variable '\"+column+\"'\")\n",
    "    plt.draw()"
   ],
   "id": "c671738e5ca723e6",
   "outputs": [],
   "execution_count": null
  },
  {
   "metadata": {},
   "cell_type": "markdown",
   "source": "Comme on peut constater sur les différents graphiques, il y aura des outliers à rectifier",
   "id": "54d848dc085f524d"
  },
  {
   "metadata": {},
   "cell_type": "markdown",
   "source": "# Étape 6 - Détection de biais en comparant les données :",
   "id": "66d2b4952faa0f22"
  },
  {
   "metadata": {},
   "cell_type": "code",
   "source": [
    "# Conversion des variables catégorielles en variables numériques avec \"Label Encoding\"\n",
    "df['niveau_etude'] = df['niveau_etude'].map({\n",
    "    'aucun': 0,\n",
    "    'bac': 1,\n",
    "    'bac+2': 2,\n",
    "    'master': 3,\n",
    "    'doctorat': 4\n",
    "})\n",
    "\n",
    "sns.pairplot(df, hue=\"niveau_etude\", diag_kind=\"kde\")"
   ],
   "id": "3623548ee7f99e52",
   "outputs": [],
   "execution_count": null
  },
  {
   "metadata": {},
   "cell_type": "code",
   "source": [
    "pivot = df.pivot_table(index=\"sexe\", columns=\"niveau_etude\", values=\"montant_pret\", aggfunc=\"mean\")\n",
    "sns.heatmap(pivot,annot=True)"
   ],
   "id": "c128370365175dcd",
   "outputs": [],
   "execution_count": null
  },
  {
   "metadata": {},
   "cell_type": "markdown",
   "source": "Ici, on peut constater que le montant de prêt est le plus élevé chez les personnes qui ont un niveau d'étude à Bac+5 et plus",
   "id": "7bc755c0a316ba8e"
  },
  {
   "metadata": {},
   "cell_type": "markdown",
   "source": "### Détection de biais entre la catégorie fumeur et le montant du pret :",
   "id": "3bc16148dd36caf0"
  },
  {
   "metadata": {},
   "cell_type": "code",
   "source": "sns.pairplot(df, hue=\"smoker\", diag_kind=\"kde\")",
   "id": "c41f94886973f0a8",
   "outputs": [],
   "execution_count": null
  },
  {
   "metadata": {},
   "cell_type": "code",
   "source": [
    "pivot = df.pivot_table(index=\"smoker\", columns=\"situation_familiale\", values=\"montant_pret\", aggfunc=\"mean\")\n",
    "sns.heatmap(pivot)"
   ],
   "id": "6479d30dd3fd4bb",
   "outputs": [],
   "execution_count": null
  },
  {
   "metadata": {},
   "cell_type": "markdown",
   "source": "On constate ici que les personnes non-fumeuses on tendance à obtenir un prêt plus important que celles qui fument.",
   "id": "c57c10475bff0d9e"
  },
  {
   "metadata": {},
   "cell_type": "markdown",
   "source": "### Detection de biais entre la nationalité et le montant du prêt :",
   "id": "635ca501477b4ae1"
  },
  {
   "metadata": {},
   "cell_type": "code",
   "source": "sns.pairplot(df, hue=\"nationalité_francaise\", diag_kind=\"kde\")",
   "id": "3a9aa75af3d9b04b",
   "outputs": [],
   "execution_count": null
  },
  {
   "metadata": {},
   "cell_type": "code",
   "source": [
    "pivot = df.pivot_table(index=\"nationalité_francaise\", columns=\"situation_familiale\", values=\"montant_pret\", aggfunc=\"mean\")\n",
    "sns.heatmap(pivot)"
   ],
   "id": "9daed25d51862da0",
   "outputs": [],
   "execution_count": null
  },
  {
   "metadata": {},
   "cell_type": "code",
   "source": "print(df[\"nationalité_francaise\"].value_counts())",
   "id": "9136331683449917",
   "outputs": [],
   "execution_count": null
  },
  {
   "metadata": {},
   "cell_type": "markdown",
   "source": "On constate ici que les personnes qui ont une nationnalité française ont tendance à avoir un prêt plsu important que celles qui ne le sont pas.",
   "id": "84871b56be595fdb"
  },
  {
   "metadata": {},
   "cell_type": "markdown",
   "source": "### Biais détecté entre concernant le sexe, la situation familiale et  montant pret :",
   "id": "2275270d2dda3011"
  },
  {
   "metadata": {},
   "cell_type": "code",
   "source": [
    "pivot = df.pivot_table(index=\"sexe\", columns=\"situation_familiale\", values=\"montant_pret\", aggfunc=\"mean\")\n",
    "sns.heatmap(pivot)"
   ],
   "id": "42e0615770d1ec13",
   "outputs": [],
   "execution_count": null
  },
  {
   "metadata": {},
   "cell_type": "markdown",
   "source": "On constate ici que les personnes qui ont une nationnalité française ont tendance à avoir un prêt plus important que celles qui ne le sont pas.",
   "id": "e679fa1328bee9f3"
  },
  {
   "metadata": {},
   "cell_type": "markdown",
   "source": "### Biais detecté sur la région , le sexe et le montant pret d'une personne :",
   "id": "100189fa730f7f2d"
  },
  {
   "metadata": {},
   "cell_type": "code",
   "source": [
    "pivot = df.pivot_table(index=\"sexe\", columns=\"region\", values=\"montant_pret\", aggfunc=\"mean\")\n",
    "sns.heatmap(pivot)"
   ],
   "id": "16192a267cb62388",
   "outputs": [],
   "execution_count": null
  },
  {
   "metadata": {},
   "cell_type": "markdown",
   "source": "On constate ici que les personnes qui se situent en île de France, obtiennent un montant de prêt plus important ce qui créé un biais à ce niveau là",
   "id": "decf9adb5be67708"
  },
  {
   "metadata": {},
   "cell_type": "markdown",
   "source": "## Biais détecté sur la licence de sport",
   "id": "1f94dcc46ff36b82"
  },
  {
   "metadata": {},
   "cell_type": "code",
   "source": [
    "pivot = df.pivot_table(index=\"sport_licence\", columns=\"situation_familiale\", values=\"montant_pret\", aggfunc=\"mean\")\n",
    "sns.heatmap(pivot)"
   ],
   "id": "ff0471a65fef7c7",
   "outputs": [],
   "execution_count": null
  },
  {
   "metadata": {},
   "cell_type": "markdown",
   "source": "On constate qu'il y a un biais entre le montant pret et la possession d'une licence de sport, le montant du pret à tandance à être plus élevé si la personne possède une licence",
   "id": "f6b0fde960ae4ea9"
  },
  {
   "metadata": {},
   "cell_type": "markdown",
   "source": "### Tableau de corrélations",
   "id": "e1bda2acd06f7082"
  },
  {
   "metadata": {},
   "cell_type": "code",
   "source": [
    "df_new = df.copy()\n",
    "df_new['niveau_etude'] = df['niveau_etude'].map({\n",
    "    'aucun': 0,\n",
    "    'bac': 1,\n",
    "    'bac+2': 2,\n",
    "    'master': 3,\n",
    "    'doctorat': 4\n",
    "})\n",
    "df_new['sexe'] = df['sexe'].map({\n",
    "    'H': 1, # H : 0 et F: 1 auraient également fait l'affaire pour ce dont on a besoin de montrer\n",
    "    'F': 0\n",
    "})\n",
    "df_new['smoker'] = df['smoker'].map({\n",
    "    'oui': 1,\n",
    "    'non': 0\n",
    "})\n",
    "df_new['sport_licence'] = df['sport_licence'].map({\n",
    "    'oui': 1,\n",
    "    'non': 0\n",
    "})\n",
    "df_new['nationalité_francaise'] = df['nationalité_francaise'].map({\n",
    "    'oui': 1,\n",
    "    'non': 0\n",
    "})\n",
    "\n",
    "\n",
    "df_new['situation_familiale'] = df['situation_familiale'].map({\n",
    "    \"célibataire\" : 5,\n",
    "    \"divorcé\" : 10,\n",
    "    \"veuf\" : 7 ,\n",
    "    \"marié\" : 10\n",
    "})\n",
    "\n",
    "df_new['region'] = df['region'].map({\n",
    "    \"Occitanie\" : 0,\n",
    "    \"Île-de-France\" : 1,\n",
    "    \"Auvergne-Rhône-Alpes\" : 2,\n",
    "    \"Corse\" : 3,\n",
    "    \"Bretagne\" : 4,\n",
    "    \"Hauts-de-France\" : 5,\n",
    "    \"Provence-Alpes-Côte d’Azur\" : 6,\n",
    "    \"Normandie\" : 7\n",
    "})\n",
    "plt.figure(figsize=(10,4))\n",
    "sns.heatmap(df_new.corr(numeric_only=True), annot=True, cmap=\"coolwarm\", fmt=\".2f\")"
   ],
   "id": "55fb0f60c191509b",
   "outputs": [],
   "execution_count": null
  },
  {
   "metadata": {},
   "cell_type": "markdown",
   "source": [
    "Sur le tableau de corrélation ci-dessus on constate clairement que les colonnes `sexe`, `sport_licence`, `niveau_etude`, `region`, `smoker`, `nationalité_francaise`, `revenu_estime_mois`, `score_credit` ont une influence sur la valeur de `montant_pret`.\n",
    "\n",
    "_Note: On a volontairement \"converti\" les données catégorielles pour qu'elles soient numériques (par exemple H = 1 et F= 0 mais on aurait bien pu changer ses valeurs , F = 1 et H = 0 va juste rendre le nombre en retour positif), le but ici n'est pas de voir la valeur de la corrélation en soi mais de comprendre qu'il y a une influence sur le montant de pret comme l'a montré l'analyse précédente_"
   ],
   "id": "3c42a42e8bf15652"
  },
  {
   "metadata": {},
   "cell_type": "markdown",
   "source": [
    "# Etape 7 - Nettoyage et traitement\n",
    "\n",
    "## Point de vue Ethique :\n",
    "\n",
    "Suite à l'analyse précédente et pour des questions éthiques, nous exclurons les colonnes suivantes :\n",
    "- `nom`, `prenom` : car il s'agit de données identifiantes\n",
    "- `smoker` : un biais a été relevé dans notre analyse sur la colonne `montant_pret`, de plus, peut être assimilé à une donnée santé, de plus,\n",
    "- `region`, `sexe`, `nationalité_francaise`, `niveau_etude` : des biais ont été identifiés dans l'analyse précédente\n",
    "- `taille` , `poids` , `age` : ces données n'ont pas spécialement de corrélations avec le montant pret, on peut les écarter du dataset\n",
    "\n",
    "## Autres colonnes à retirer :\n",
    "\n",
    "N'ayant pas constaté de corrélation directe concernant les colonnes `date_creation_compte` et `situation_familiale` nous allons les retirer également\n",
    "\n",
    "Les données financières telles que : `historique_credits`, `risque_personnel`, `score_credit`, `revenu_estime_mois` seront gardées pour permettre une meilleure estimation du montant prêt par le futur modèle\n"
   ],
   "id": "55a5997ff6b0f543"
  },
  {
   "metadata": {},
   "cell_type": "code",
   "source": "df = df.drop(columns=[\"nom\",\"prenom\",\"sexe\", \"sport_licence\", \"niveau_etude\", \"region\", \"smoker\", \"nationalité_francaise\",\"taille\" , \"poids\" , \"age\", \"situation_familiale\", \"date_creation_compte\"])",
   "id": "fc033d6907475e3a",
   "outputs": [],
   "execution_count": null
  },
  {
   "metadata": {},
   "cell_type": "markdown",
   "source": "### 1. Suppression des colonnes quasi-vides (plus de 90% de valeurs manquantes)",
   "id": "10186b99201f3cd9"
  },
  {
   "metadata": {},
   "cell_type": "code",
   "source": [
    "seuil_colonnes_vides = 0.90\n",
    "colonnes_a_supprimer = df.columns[df.isnull().mean() > seuil_colonnes_vides]\n",
    "df.drop(columns=colonnes_a_supprimer, inplace=True)\n",
    "\n",
    "print(f\"Colonnes supprimées (>{int(seuil_colonnes_vides*100)}% de valeurs manquantes) : {list(colonnes_a_supprimer)}\")"
   ],
   "id": "503aae7255e86a50",
   "outputs": [],
   "execution_count": null
  },
  {
   "metadata": {},
   "cell_type": "markdown",
   "source": "### 2. Suppression des lignes trop incomplètes (plus de 50% de valeurs nulles ou selon seuil)",
   "id": "10a9e9a968915997"
  },
  {
   "metadata": {},
   "cell_type": "code",
   "source": [
    "# ➤ 2. Suppression des lignes trop incomplètes (plus de 50% de valeurs nulles ou selon seuil)\n",
    "seuil_lignes = 0.5\n",
    "lignes_avant = df.shape[0]\n",
    "df = df[df.isnull().mean(axis=1) < seuil_lignes]\n",
    "lignes_apres = df.shape[0]\n",
    "\n",
    "print(f\"Lignes supprimées : {lignes_avant - lignes_apres} (incomplètes à plus de {int(seuil_lignes*100)}%)\")"
   ],
   "id": "577c37be4f9b149c",
   "outputs": [],
   "execution_count": null
  },
  {
   "metadata": {},
   "cell_type": "markdown",
   "source": "### 3. Détection et traitement des outliers avec IQR (remplacement par borne)",
   "id": "7a50e4e55dac1e87"
  },
  {
   "metadata": {},
   "cell_type": "code",
   "source": [
    "colonnes_numeriques = df.select_dtypes(include=[\"float\", \"int\"]).columns\n",
    "\n",
    "for col in colonnes_numeriques:\n",
    "    Q1 = df[col].quantile(0.25)\n",
    "    Q3 = df[col].quantile(0.75)\n",
    "    IQR = Q3 - Q1\n",
    "    lower = Q1 - 1.5 * IQR\n",
    "    upper = Q3 + 1.5 * IQR\n",
    "    outliers = df[(df[col] < lower) | (df[col] > upper)][col]\n",
    "\n",
    "    if not outliers.empty:\n",
    "        df[col] = np.where(df[col] < lower, lower, df[col])\n",
    "        df[col] = np.where(df[col] > upper, upper, df[col])\n",
    "        print(f\"{col} : {len(outliers)} outliers remplacés par bornes IQR\")"
   ],
   "id": "ca488736cafbcb9c",
   "outputs": [],
   "execution_count": null
  },
  {
   "metadata": {},
   "cell_type": "code",
   "source": [
    "# Visualisation avec missingno\n",
    "msno.matrix(df, figsize=(12,6))\n",
    "# Colonnes avec des valeurs manquantes\n",
    "df.isnull().sum().sort_values(ascending=False)"
   ],
   "id": "6844be63da3f67",
   "outputs": [],
   "execution_count": null
  },
  {
   "metadata": {},
   "cell_type": "markdown",
   "source": "### 4. Imputation des valeurs manquantes selon stratégie par variable\n",
   "id": "8bf9c01fa3615363"
  },
  {
   "metadata": {},
   "cell_type": "code",
   "source": [
    "from sklearn.impute import KNNImputer\n",
    "colonnes_numeriques_peu_correlees= [\"historique_credits\",\"loyer_mensuel\"]\n",
    "colonnes_numeriques_correlees= [\"revenu_estime_mois\", \"montant_pret\", \"score_credit\"]\n",
    "# Remplissage par médiane pour les colonnes numériques peu corrélées\n",
    "for col in colonnes_numeriques_peu_correlees:\n",
    "    if df[col].isnull().sum() > 0:\n",
    "        df[col] = df[col].fillna(df[col].median())\n",
    "        print(f\"{col} : valeurs nulles imputées par médiane\")\n",
    "\n",
    "# Exemple avec KNNImputer pour certaines colonnes numériques corrélées\n",
    "imputer = KNNImputer(n_neighbors=5)\n",
    "df[colonnes_numeriques_correlees] = imputer.fit_transform(\n",
    "    df[colonnes_numeriques_correlees]\n",
    ")\n",
    "print(\"Imputation par KNN effectuée sur : \")\n",
    "print(colonnes_numeriques_correlees)\n",
    "\n",
    "# Visualisation avec missingno\n",
    "msno.matrix(df, figsize=(12,6))\n",
    "# Colonnes avec des valeurs manquantes\n",
    "df.isnull().sum().sort_values(ascending=False)"
   ],
   "id": "4240955046c917e",
   "outputs": [],
   "execution_count": null
  },
  {
   "metadata": {},
   "cell_type": "code",
   "source": [
    "plt.figure(figsize=(10,4))\n",
    "sns.heatmap(df.corr(numeric_only=True), annot=True, cmap=\"coolwarm\", fmt=\".2f\")"
   ],
   "id": "c6a1bb10217708b5",
   "outputs": [],
   "execution_count": null
  },
  {
   "metadata": {},
   "cell_type": "markdown",
   "source": "Apres imputation des valeurs, nous conservons les bonnes corrélations pour les colonnes `revenu_estime_mois` , `score_credit`",
   "id": "a50d804cc86fd0cd"
  },
  {
   "metadata": {},
   "cell_type": "code",
   "source": [
    "#Résumé statistique après nettoyage\n",
    "df.describe().T"
   ],
   "id": "2d1b47872aaaf8d",
   "outputs": [],
   "execution_count": null
  },
  {
   "metadata": {},
   "cell_type": "markdown",
   "source": "# Etape 8 - Génération du dataset nettoyé",
   "id": "6434f8ec96f7b07d"
  },
  {
   "metadata": {},
   "cell_type": "code",
   "source": "df.to_csv('dataset_clean_ethics.csv', index=False)",
   "id": "5cd276f1eb5c4097",
   "outputs": [],
   "execution_count": null
  }
 ],
 "metadata": {
  "kernelspec": {
   "display_name": "Python 3",
   "language": "python",
   "name": "python3"
  },
  "language_info": {
   "codemirror_mode": {
    "name": "ipython",
    "version": 2
   },
   "file_extension": ".py",
   "mimetype": "text/x-python",
   "name": "python",
   "nbconvert_exporter": "python",
   "pygments_lexer": "ipython2",
   "version": "2.7.6"
  }
 },
 "nbformat": 4,
 "nbformat_minor": 5
}
